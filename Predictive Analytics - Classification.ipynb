{
 "cells": [
  {
   "cell_type": "markdown",
   "metadata": {},
   "source": [
    "# Breast Cancer Prediction Using Machine Learning "
   ]
  },
  {
   "cell_type": "markdown",
   "metadata": {},
   "source": [
    "Supervised learning algorithms are ubiquitously used in almost all industries to enhance decision making. I have used supervised learning techniques while working for a CPG client in Mu Sigma. Joining the MS in Business Analytics course at Carlson School of Management helped me learn various techniques in depth for both classification and regression like Linear Regression, Logistict Regression, SVM, K-NN, Neural Networks and ensemble models. \n",
    "\n",
    "So far, I have worked with CPG, Retail, Entertainment and hospitality clients. One of the industries I have explored least is medical and healthcare industries. One reason why the application here is so important is because predictive analytics is exactly doing what doctors have been doing on an extremely large scale.\n",
    "\n",
    "I have used publically available data on Breast Cancer. This has been taken from the following website https://archive.ics.uci.edu/ml/datasets/Breast+Cancer+Wisconsin+(Diagnostic)\n",
    "\n",
    "I am leveraging all the techniques that I have learnt so far to predict breast cancer based on information extracted from breast mass. "
   ]
  },
  {
   "cell_type": "code",
   "execution_count": 176,
   "metadata": {},
   "outputs": [],
   "source": [
    "import warnings\n",
    "warnings.filterwarnings('ignore')\n",
    "# All libraries imported will be displayed here \n",
    "import pandas as pd\n",
    "import numpy as np\n",
    "import matplotlib.pyplot as plt\n",
    "from sklearn.model_selection import cross_val_score\n",
    "from sklearn import datasets,linear_model, neighbors,ensemble,tree,model_selection,preprocessing,metrics\n",
    "from matplotlib.colors import ListedColormap\n",
    "from sklearn.model_selection import train_test_split,GridSearchCV\n",
    "from sklearn.tree import DecisionTreeClassifier\n",
    "import scikitplot as skplt\n",
    "from sklearn.linear_model import LogisticRegression\n",
    "from sklearn.preprocessing import MinMaxScaler\n",
    "import keras\n",
    "from keras.models import Sequential\n",
    "from keras.datasets import mnist\n",
    "from keras.layers import Dense\n",
    "from keras.utils import np_utils\n",
    "from keras.wrappers.scikit_learn import KerasRegressor,KerasClassifier"
   ]
  },
  {
   "cell_type": "markdown",
   "metadata": {},
   "source": [
    "The features in the dataset are taken from a digitized image of a fine needle aspirate of breast mass. They describe characteristics of the cell nuclei present in the image.<br>\n",
    "\n",
    "Our target variable is diagnosis, that is whether the tumor is malignant or benign \n",
    "1) Diagnosis (M = malignant, B = benign)<br>\n",
    "\n",
    "The predictor variables are calculated for each cell nucleus and contains information like :- <br>\n",
    "\n",
    "a) radius (mean of distances from center to points on the perimeter)<br>\n",
    "b) texture (standard deviation of gray-scale values)<br>\n",
    "c) perimeter<br>\n",
    "d) area<br>\n",
    "e) smoothness (local variation in radius lengths)<br>\n",
    "f) compactness (perimeter^2 / area - 1.0)<br>\n",
    "g) concavity (severity of concave portions of the contour)<br>\n",
    "h) concave points (number of concave portions of the contour)<br>\n",
    "i) symmetry<br>\n",
    "j) fractal dimension (\"coastline approximation\" - 1)<br>\n",
    "\n",
    "We have totally 30 features in our dataset.<br>"
   ]
  },
  {
   "cell_type": "markdown",
   "metadata": {},
   "source": [
    "First lets import the dataset and view few rows of the data"
   ]
  },
  {
   "cell_type": "code",
   "execution_count": 177,
   "metadata": {
    "scrolled": true
   },
   "outputs": [],
   "source": [
    "wdbc_data = pd.read_csv(\"wdbc.data\", header = None)"
   ]
  },
  {
   "cell_type": "code",
   "execution_count": 178,
   "metadata": {},
   "outputs": [
    {
     "data": {
      "text/html": [
       "<div>\n",
       "<style scoped>\n",
       "    .dataframe tbody tr th:only-of-type {\n",
       "        vertical-align: middle;\n",
       "    }\n",
       "\n",
       "    .dataframe tbody tr th {\n",
       "        vertical-align: top;\n",
       "    }\n",
       "\n",
       "    .dataframe thead th {\n",
       "        text-align: right;\n",
       "    }\n",
       "</style>\n",
       "<table border=\"1\" class=\"dataframe\">\n",
       "  <thead>\n",
       "    <tr style=\"text-align: right;\">\n",
       "      <th></th>\n",
       "      <th>0</th>\n",
       "      <th>1</th>\n",
       "      <th>2</th>\n",
       "      <th>3</th>\n",
       "      <th>4</th>\n",
       "      <th>5</th>\n",
       "      <th>6</th>\n",
       "      <th>7</th>\n",
       "      <th>8</th>\n",
       "      <th>9</th>\n",
       "      <th>...</th>\n",
       "      <th>22</th>\n",
       "      <th>23</th>\n",
       "      <th>24</th>\n",
       "      <th>25</th>\n",
       "      <th>26</th>\n",
       "      <th>27</th>\n",
       "      <th>28</th>\n",
       "      <th>29</th>\n",
       "      <th>30</th>\n",
       "      <th>31</th>\n",
       "    </tr>\n",
       "  </thead>\n",
       "  <tbody>\n",
       "    <tr>\n",
       "      <th>0</th>\n",
       "      <td>842302</td>\n",
       "      <td>M</td>\n",
       "      <td>17.99</td>\n",
       "      <td>10.38</td>\n",
       "      <td>122.80</td>\n",
       "      <td>1001.0</td>\n",
       "      <td>0.11840</td>\n",
       "      <td>0.27760</td>\n",
       "      <td>0.3001</td>\n",
       "      <td>0.14710</td>\n",
       "      <td>...</td>\n",
       "      <td>25.38</td>\n",
       "      <td>17.33</td>\n",
       "      <td>184.60</td>\n",
       "      <td>2019.0</td>\n",
       "      <td>0.1622</td>\n",
       "      <td>0.6656</td>\n",
       "      <td>0.7119</td>\n",
       "      <td>0.2654</td>\n",
       "      <td>0.4601</td>\n",
       "      <td>0.11890</td>\n",
       "    </tr>\n",
       "    <tr>\n",
       "      <th>1</th>\n",
       "      <td>842517</td>\n",
       "      <td>M</td>\n",
       "      <td>20.57</td>\n",
       "      <td>17.77</td>\n",
       "      <td>132.90</td>\n",
       "      <td>1326.0</td>\n",
       "      <td>0.08474</td>\n",
       "      <td>0.07864</td>\n",
       "      <td>0.0869</td>\n",
       "      <td>0.07017</td>\n",
       "      <td>...</td>\n",
       "      <td>24.99</td>\n",
       "      <td>23.41</td>\n",
       "      <td>158.80</td>\n",
       "      <td>1956.0</td>\n",
       "      <td>0.1238</td>\n",
       "      <td>0.1866</td>\n",
       "      <td>0.2416</td>\n",
       "      <td>0.1860</td>\n",
       "      <td>0.2750</td>\n",
       "      <td>0.08902</td>\n",
       "    </tr>\n",
       "    <tr>\n",
       "      <th>2</th>\n",
       "      <td>84300903</td>\n",
       "      <td>M</td>\n",
       "      <td>19.69</td>\n",
       "      <td>21.25</td>\n",
       "      <td>130.00</td>\n",
       "      <td>1203.0</td>\n",
       "      <td>0.10960</td>\n",
       "      <td>0.15990</td>\n",
       "      <td>0.1974</td>\n",
       "      <td>0.12790</td>\n",
       "      <td>...</td>\n",
       "      <td>23.57</td>\n",
       "      <td>25.53</td>\n",
       "      <td>152.50</td>\n",
       "      <td>1709.0</td>\n",
       "      <td>0.1444</td>\n",
       "      <td>0.4245</td>\n",
       "      <td>0.4504</td>\n",
       "      <td>0.2430</td>\n",
       "      <td>0.3613</td>\n",
       "      <td>0.08758</td>\n",
       "    </tr>\n",
       "    <tr>\n",
       "      <th>3</th>\n",
       "      <td>84348301</td>\n",
       "      <td>M</td>\n",
       "      <td>11.42</td>\n",
       "      <td>20.38</td>\n",
       "      <td>77.58</td>\n",
       "      <td>386.1</td>\n",
       "      <td>0.14250</td>\n",
       "      <td>0.28390</td>\n",
       "      <td>0.2414</td>\n",
       "      <td>0.10520</td>\n",
       "      <td>...</td>\n",
       "      <td>14.91</td>\n",
       "      <td>26.50</td>\n",
       "      <td>98.87</td>\n",
       "      <td>567.7</td>\n",
       "      <td>0.2098</td>\n",
       "      <td>0.8663</td>\n",
       "      <td>0.6869</td>\n",
       "      <td>0.2575</td>\n",
       "      <td>0.6638</td>\n",
       "      <td>0.17300</td>\n",
       "    </tr>\n",
       "    <tr>\n",
       "      <th>4</th>\n",
       "      <td>84358402</td>\n",
       "      <td>M</td>\n",
       "      <td>20.29</td>\n",
       "      <td>14.34</td>\n",
       "      <td>135.10</td>\n",
       "      <td>1297.0</td>\n",
       "      <td>0.10030</td>\n",
       "      <td>0.13280</td>\n",
       "      <td>0.1980</td>\n",
       "      <td>0.10430</td>\n",
       "      <td>...</td>\n",
       "      <td>22.54</td>\n",
       "      <td>16.67</td>\n",
       "      <td>152.20</td>\n",
       "      <td>1575.0</td>\n",
       "      <td>0.1374</td>\n",
       "      <td>0.2050</td>\n",
       "      <td>0.4000</td>\n",
       "      <td>0.1625</td>\n",
       "      <td>0.2364</td>\n",
       "      <td>0.07678</td>\n",
       "    </tr>\n",
       "  </tbody>\n",
       "</table>\n",
       "<p>5 rows × 32 columns</p>\n",
       "</div>"
      ],
      "text/plain": [
       "         0  1      2      3       4       5        6        7       8   \\\n",
       "0    842302  M  17.99  10.38  122.80  1001.0  0.11840  0.27760  0.3001   \n",
       "1    842517  M  20.57  17.77  132.90  1326.0  0.08474  0.07864  0.0869   \n",
       "2  84300903  M  19.69  21.25  130.00  1203.0  0.10960  0.15990  0.1974   \n",
       "3  84348301  M  11.42  20.38   77.58   386.1  0.14250  0.28390  0.2414   \n",
       "4  84358402  M  20.29  14.34  135.10  1297.0  0.10030  0.13280  0.1980   \n",
       "\n",
       "        9   ...     22     23      24      25      26      27      28      29  \\\n",
       "0  0.14710  ...  25.38  17.33  184.60  2019.0  0.1622  0.6656  0.7119  0.2654   \n",
       "1  0.07017  ...  24.99  23.41  158.80  1956.0  0.1238  0.1866  0.2416  0.1860   \n",
       "2  0.12790  ...  23.57  25.53  152.50  1709.0  0.1444  0.4245  0.4504  0.2430   \n",
       "3  0.10520  ...  14.91  26.50   98.87   567.7  0.2098  0.8663  0.6869  0.2575   \n",
       "4  0.10430  ...  22.54  16.67  152.20  1575.0  0.1374  0.2050  0.4000  0.1625   \n",
       "\n",
       "       30       31  \n",
       "0  0.4601  0.11890  \n",
       "1  0.2750  0.08902  \n",
       "2  0.3613  0.08758  \n",
       "3  0.6638  0.17300  \n",
       "4  0.2364  0.07678  \n",
       "\n",
       "[5 rows x 32 columns]"
      ]
     },
     "execution_count": 178,
     "metadata": {},
     "output_type": "execute_result"
    }
   ],
   "source": [
    "wdbc_data.head()"
   ]
  },
  {
   "cell_type": "code",
   "execution_count": 179,
   "metadata": {},
   "outputs": [],
   "source": [
    "del wdbc_data[0] #Since this is an id and we do not require this"
   ]
  },
  {
   "cell_type": "code",
   "execution_count": 180,
   "metadata": {},
   "outputs": [],
   "source": [
    "#Since our target variable is \"M\" for malignant and \"B\" for \"Benign\", we need to transform them into binary values,\n",
    "#here we are using 1 for malign and 0 for benign"
   ]
  },
  {
   "cell_type": "code",
   "execution_count": 181,
   "metadata": {},
   "outputs": [],
   "source": [
    "wdbc_data[1] = wdbc_data[1].map({'M':1,'B':0})"
   ]
  },
  {
   "cell_type": "markdown",
   "metadata": {},
   "source": [
    "Dividing the dataset into test and train for prediction with 0.7:0.3 split"
   ]
  },
  {
   "cell_type": "code",
   "execution_count": 182,
   "metadata": {},
   "outputs": [],
   "source": [
    "wdbc_X = wdbc_data.drop(1, axis = 1)\n",
    "wdbc_Y = wdbc_data[1]\n",
    "seed = 143\n",
    "X_train, X_test, Y_train, Y_test = train_test_split(wdbc_X, wdbc_Y, test_size=0.3, random_state = seed)"
   ]
  },
  {
   "cell_type": "markdown",
   "metadata": {},
   "source": [
    "### DECISION TREES"
   ]
  },
  {
   "cell_type": "markdown",
   "metadata": {},
   "source": [
    "Decision trees generally tend to parition customers into subgroups so that they are less impure. One of the most common criterion used for spiltting is the information gain. We need more information to be gained as we build the tree. It is one of the most commonly used algorithm because of its simplicity and ease to understand. Decision trees build orthogonal boundaries while splitting the data and therefore, works well if the data is orthogonally seperable.\n",
    "\n",
    "Now we are going to run a Decision Tree Classifier.\n",
    "\n",
    "In order to select best hyper parameter, I have used nested cross validation. We are going to try the following hyper parameters: <br>\n",
    "1. Max depth values between 1 and 20 \n",
    "2. Min impurity decrease of 0.1 and 0.2 i.e. node will be split if the split creates a decrease of the impurity greater than or equal to this value\n",
    "3. Gini impurity score is used  as a criterion because it is a classification problem here\n",
    "\n"
   ]
  },
  {
   "cell_type": "code",
   "execution_count": 183,
   "metadata": {},
   "outputs": [
    {
     "name": "stdout",
     "output_type": "stream",
     "text": [
      "Best Score: 0.9020100502512562\n",
      "Best parameters: {'criterion': 'gini', 'max_depth': 2, 'min_impurity_decrease': 0.1}\n"
     ]
    }
   ],
   "source": [
    "model_type = tree.DecisionTreeClassifier()\n",
    "# Tune hyper-parameters using GridSearch\n",
    "parameters = {'max_depth': [1,2,3,4,5,6,7,8,9,10,11,12,13,14,15,16,17,18,19,20],\n",
    "              'criterion': ['gini'],\n",
    "              'min_impurity_decrease': [0.1,0.2]}\n",
    "\n",
    "model = GridSearchCV(estimator = model_type,\n",
    "                      param_grid = parameters,\n",
    "                      scoring=\"accuracy\",\n",
    "                      n_jobs=4,\n",
    "                      iid=True,\n",
    "                      cv=10)\n",
    "model.fit(X_train,Y_train)\n",
    "print(\"Best Score:\",model.best_score_)\n",
    "print(\"Best parameters:\",model.best_params_)\n"
   ]
  },
  {
   "cell_type": "markdown",
   "metadata": {},
   "source": [
    "Once we obtained the best hyper parameter, we will use these hyper paramteres to predict the values in our test dataset"
   ]
  },
  {
   "cell_type": "code",
   "execution_count": 184,
   "metadata": {},
   "outputs": [
    {
     "name": "stdout",
     "output_type": "stream",
     "text": [
      "[0.94444444 0.94444444 0.76470588 0.82352941 0.88235294 0.94117647\n",
      " 1.         0.76470588 0.88235294 0.875     ]\n",
      "Accuracy: 0.88 (+/- 0.15)\n"
     ]
    }
   ],
   "source": [
    "model_final = model.best_estimator_\n",
    "scores = cross_val_score(model_final, X_test, Y_test, cv=10)\n",
    "print(scores)\n",
    "print(\"Accuracy: %0.2f (+/- %0.2f)\" % (scores.mean(), scores.std() * 2))"
   ]
  },
  {
   "cell_type": "code",
   "execution_count": 185,
   "metadata": {},
   "outputs": [],
   "source": [
    "dt_accuracy = round(scores.mean(),2)"
   ]
  },
  {
   "cell_type": "markdown",
   "metadata": {},
   "source": [
    "With the decision tree, we are getting an accuracy of 0.88 and standard deviation of 0.15. "
   ]
  },
  {
   "cell_type": "code",
   "execution_count": 186,
   "metadata": {
    "scrolled": true
   },
   "outputs": [
    {
     "data": {
      "text/plain": [
       "<matplotlib.axes._subplots.AxesSubplot at 0x2281aef6f98>"
      ]
     },
     "execution_count": 186,
     "metadata": {},
     "output_type": "execute_result"
    },
    {
     "data": {
      "image/png": "[encoded data removed]",
      "text/plain": [
       "<Figure size 432x288 with 2 Axes>"
      ]
     },
     "metadata": {
      "needs_background": "light"
     },
     "output_type": "display_data"
    }
   ],
   "source": [
    "classifier = DecisionTreeClassifier(max_depth = 1, criterion = 'gini', min_impurity_decrease= 0.1)\n",
    "Y_pred = classifier.fit(X_train, Y_train).predict(X_test)\n",
    "skplt.metrics.plot_confusion_matrix(Y_test,Y_pred,title = \"Confusion Matrix for Decision Tree classifier\")"
   ]
  },
  {
   "cell_type": "code",
   "execution_count": 187,
   "metadata": {},
   "outputs": [
    {
     "name": "stdout",
     "output_type": "stream",
     "text": [
      "Precision Score: 0.92 \n",
      "Recall Score: 0.80 \n",
      "F1 Score: 0.85 \n"
     ]
    }
   ],
   "source": [
    "from sklearn.metrics import precision_score,f1_score,recall_score,accuracy_score\n",
    "print(\"Precision Score: %0.2f \" % precision_score(Y_test,Y_pred))\n",
    "print(\"Recall Score: %0.2f \" % recall_score(Y_test,Y_pred))\n",
    "print(\"F1 Score: %0.2f \" % f1_score(Y_test,Y_pred))\n",
    "dt_precision = round(precision_score(Y_test,Y_pred),2)\n",
    "dt_recall = round(recall_score(Y_test,Y_pred),2)\n",
    "dt_f1score = round(f1_score(Y_test,Y_pred),2)\n",
    "dt_hyper = model.best_params_"
   ]
  },
  {
   "cell_type": "markdown",
   "metadata": {},
   "source": [
    "### LOGISTIC REGRESSION"
   ]
  },
  {
   "cell_type": "markdown",
   "metadata": {},
   "source": [
    "Logistic regression is one of the most commonly used classification techniques and is used to estimate the probability of a certain class or event and in our case is whether the patient has cancer or not. Logistic regression can lead to overfitting and in order to reduce this we use regularisation. \n",
    "\n",
    "We have two types of regularisation L1 and L2 which can be used to reduce model complexity. These are going to be hyper parameters in our model. Once we understand which regularisatio works better, we can leverage that to predict the test values. "
   ]
  },
  {
   "cell_type": "code",
   "execution_count": 188,
   "metadata": {},
   "outputs": [
    {
     "name": "stdout",
     "output_type": "stream",
     "text": [
      "Best Score: 0.9472361809045227\n",
      "Best parameters: {'penalty': 'l1'}\n"
     ]
    }
   ],
   "source": [
    "# Using l1 as penalty \n",
    "model_type = LogisticRegression()\n",
    "parameters = {'penalty' :['l2','l1']}\n",
    "\n",
    "model = GridSearchCV(estimator = model_type,\n",
    "                      param_grid = parameters,\n",
    "                      scoring=\"accuracy\",\n",
    "                      n_jobs=4,\n",
    "                      iid=True,\n",
    "                      cv=10)\n",
    "\n",
    "model.fit(X_train,Y_train)\n",
    "print(\"Best Score:\",model.best_score_)\n",
    "print(\"Best parameters:\",model.best_params_)"
   ]
  },
  {
   "cell_type": "code",
   "execution_count": 189,
   "metadata": {},
   "outputs": [
    {
     "name": "stdout",
     "output_type": "stream",
     "text": [
      "[1.         1.         0.82352941 0.94117647 1.         0.94117647\n",
      " 1.         0.82352941 1.         0.875     ]\n",
      "Accuracy: 0.94 (+/- 0.14)\n"
     ]
    }
   ],
   "source": [
    "model_final = model.best_estimator_\n",
    "scores = cross_val_score(model_final, X_test, Y_test, cv=10)\n",
    "print(scores)\n",
    "print(\"Accuracy: %0.2f (+/- %0.2f)\" % (scores.mean(), scores.std() * 2))"
   ]
  },
  {
   "cell_type": "code",
   "execution_count": 190,
   "metadata": {},
   "outputs": [
    {
     "data": {
      "text/plain": [
       "<matplotlib.axes._subplots.AxesSubplot at 0x2281ae3fcf8>"
      ]
     },
     "execution_count": 190,
     "metadata": {},
     "output_type": "execute_result"
    },
    {
     "data": {
      "image/png": "[encoded data removed]",
      "text/plain": [
       "<Figure size 432x288 with 2 Axes>"
      ]
     },
     "metadata": {
      "needs_background": "light"
     },
     "output_type": "display_data"
    }
   ],
   "source": [
    "Y_pred = model_final.fit(X_train, Y_train).predict(X_test)\n",
    "skplt.metrics.plot_confusion_matrix(Y_test,Y_pred,title = \"Confusion Matrix for Logistic Regression\")"
   ]
  },
  {
   "cell_type": "code",
   "execution_count": 191,
   "metadata": {},
   "outputs": [
    {
     "name": "stdout",
     "output_type": "stream",
     "text": [
      "Precision Score: 0.93 \n",
      "Recall Score: 0.93 \n",
      "F1 Score: 0.93 \n"
     ]
    }
   ],
   "source": [
    "print(\"Precision Score: %0.2f \" % precision_score(Y_test,Y_pred))\n",
    "print(\"Recall Score: %0.2f \" % recall_score(Y_test,Y_pred))\n",
    "print(\"F1 Score: %0.2f \" % f1_score(Y_test,Y_pred))"
   ]
  },
  {
   "cell_type": "code",
   "execution_count": 192,
   "metadata": {},
   "outputs": [],
   "source": [
    "lr_accuracy = round(accuracy_score(Y_test,Y_pred),2)\n",
    "lr_precision = round(precision_score(Y_test,Y_pred),2)\n",
    "lr_recall = round(recall_score(Y_test,Y_pred),2)\n",
    "lr_f1score = round(f1_score(Y_test,Y_pred),2)\n",
    "lr_hyper = model.best_params_"
   ]
  },
  {
   "cell_type": "markdown",
   "metadata": {},
   "source": [
    "### CLASSIFICATION USING K NEAREST NEIGHBOURS"
   ]
  },
  {
   "cell_type": "markdown",
   "metadata": {},
   "source": [
    "In this method, we look at \"k\" nearest neighbours and classify them as having cancer or not having cancer by taking majority vote. In order to determine nearest neighbours, we look at Euclidian distance. Because we are calculating Euclidian distance, we need to normalise the dataset as it may contain different variables varying in different scales (For example, age and salary). Additionally, while taking majority vote we can consider each neighbour equally or weigh their importance based on the distance. These are additional hyper parameters in the model"
   ]
  },
  {
   "cell_type": "code",
   "execution_count": 193,
   "metadata": {},
   "outputs": [
    {
     "name": "stdout",
     "output_type": "stream",
     "text": [
      "Best Score: 0.8619660804020101\n",
      "Best parameters: {'n_neighbors': 7, 'weights': 'uniform'}\n"
     ]
    }
   ],
   "source": [
    "KNN = neighbors.KNeighborsClassifier\n",
    "# Tune hyper-parameters using GridSearch\n",
    "scaler  = MinMaxScaler()\n",
    "scaler.fit(X_train)\n",
    "\n",
    "X_test_KNN = pd.DataFrame(scaler.transform(X_test), columns = X_test.columns)\n",
    "X_train_KNN = pd.DataFrame(scaler.transform(X_train), columns = X_train.columns)\n",
    "\n",
    "parameters = {'n_neighbors':[1,3,5,7,9,11,13,15] ,\n",
    "             'weights': ['uniform', 'distance']}\n",
    "\n",
    "model = GridSearchCV(estimator=KNN(),\n",
    "                      param_grid=parameters,\n",
    "                      scoring=\"r2\",\n",
    "                      n_jobs=4,\n",
    "                      iid=True,\n",
    "                      cv=10)\n",
    "model.fit(X_train_KNN,Y_train)\n",
    "print(\"Best Score:\",model.best_score_)\n",
    "print(\"Best parameters:\",model.best_params_)"
   ]
  },
  {
   "cell_type": "code",
   "execution_count": 194,
   "metadata": {},
   "outputs": [
    {
     "name": "stdout",
     "output_type": "stream",
     "text": [
      "[1.         1.         1.         0.88235294 1.         1.\n",
      " 1.         0.88235294 1.         0.9375    ]\n",
      "Accuracy: 0.97 (+/- 0.10)\n"
     ]
    }
   ],
   "source": [
    "model_final = model.best_estimator_\n",
    "scores = cross_val_score(model_final, X_test_KNN, Y_test, cv=10)\n",
    "print(scores)\n",
    "print(\"Accuracy: %0.2f (+/- %0.2f)\" % (scores.mean(), scores.std() * 2))"
   ]
  },
  {
   "cell_type": "code",
   "execution_count": 195,
   "metadata": {},
   "outputs": [
    {
     "data": {
      "text/plain": [
       "<matplotlib.axes._subplots.AxesSubplot at 0x2281b21aef0>"
      ]
     },
     "execution_count": 195,
     "metadata": {},
     "output_type": "execute_result"
    },
    {
     "data": {
      "image/png": "[encoded data removed]",
      "text/plain": [
       "<Figure size 432x288 with 2 Axes>"
      ]
     },
     "metadata": {
      "needs_background": "light"
     },
     "output_type": "display_data"
    }
   ],
   "source": [
    "Y_pred = model_final.fit(X_train_KNN, Y_train).predict(X_test_KNN)\n",
    "skplt.metrics.plot_confusion_matrix(Y_test,Y_pred,title = \"Confusion Matrix for k- Nearest Neighbours\")"
   ]
  },
  {
   "cell_type": "code",
   "execution_count": 196,
   "metadata": {},
   "outputs": [
    {
     "name": "stdout",
     "output_type": "stream",
     "text": [
      "Precision Score: 0.98 \n",
      "Recall Score: 0.97 \n",
      "F1 Score: 0.97 \n"
     ]
    }
   ],
   "source": [
    "print(\"Precision Score: %0.2f \" % precision_score(Y_test,Y_pred))\n",
    "print(\"Recall Score: %0.2f \" % recall_score(Y_test,Y_pred))\n",
    "print(\"F1 Score: %0.2f \" % f1_score(Y_test,Y_pred))"
   ]
  },
  {
   "cell_type": "code",
   "execution_count": 197,
   "metadata": {},
   "outputs": [],
   "source": [
    "knn_accuracy = round(accuracy_score(Y_test,Y_pred),2)\n",
    "knn_precision = round(precision_score(Y_test,Y_pred),2)\n",
    "knn_recall = round(recall_score(Y_test,Y_pred),2)\n",
    "knn_f1score = round(f1_score(Y_test,Y_pred),2)\n",
    "knn_hyper = model.best_params_"
   ]
  },
  {
   "cell_type": "markdown",
   "metadata": {},
   "source": [
    "### GRADIENT BOOSTING CLASSIFIER"
   ]
  },
  {
   "cell_type": "markdown",
   "metadata": {},
   "source": [
    "Ensemble models are most popular models in Kaggle competitions. They are built under the principle thatcombining results of many modeling techniques will give us better results. One such method where the underlying model is the same but we use different datasets is called boosting. In Gradient Boosting, we use decision trees. In the first iteration, predictions are made and there will be residuals. In the second iteration, we try to predict the residual and reduce error. This is the underlying principle of Gradient Boosting Classifier."
   ]
  },
  {
   "cell_type": "code",
   "execution_count": 198,
   "metadata": {},
   "outputs": [
    {
     "name": "stdout",
     "output_type": "stream",
     "text": [
      "Best Score: 0.9597989949748744\n",
      "Best parameters: {'max_depth': 4, 'min_samples_split': 7, 'n_estimators': 14}\n"
     ]
    }
   ],
   "source": [
    "GB = ensemble.GradientBoostingClassifier\n",
    "# Tune hyper-parameters using GridSearch\n",
    "params = {'n_estimators': range(1,15), \n",
    "          'max_depth':range(1,20) , \n",
    "          'min_samples_split': range(2,10)}\n",
    "\n",
    "model = GridSearchCV(estimator=GB(),\n",
    "                      param_grid=params,\n",
    "                      scoring=\"accuracy\",\n",
    "                      n_jobs=4,\n",
    "                      iid=True,\n",
    "                      cv=10)\n",
    "model.fit(X_train,Y_train)\n",
    "print(\"Best Score:\",model.best_score_)\n",
    "print(\"Best parameters:\",model.best_params_)\n"
   ]
  },
  {
   "cell_type": "code",
   "execution_count": 199,
   "metadata": {},
   "outputs": [
    {
     "name": "stdout",
     "output_type": "stream",
     "text": [
      "[1.         0.94444444 0.88235294 0.88235294 1.         0.94117647\n",
      " 0.88235294 0.82352941 1.         0.875     ]\n",
      "Accuracy: 0.92 (+/- 0.12)\n"
     ]
    }
   ],
   "source": [
    "model_final = model.best_estimator_\n",
    "scores = cross_val_score(model_final, X_test, Y_test, cv=10)\n",
    "print(scores)\n",
    "print(\"Accuracy: %0.2f (+/- %0.2f)\" % (scores.mean(), scores.std() * 2))"
   ]
  },
  {
   "cell_type": "code",
   "execution_count": 200,
   "metadata": {},
   "outputs": [
    {
     "name": "stdout",
     "output_type": "stream",
     "text": [
      "Precision Score: 1.00 \n",
      "Recall Score: 0.85 \n",
      "F1 Score: 0.92 \n"
     ]
    },
    {
     "data": {
      "image/png": "[encoded data removed]",
      "text/plain": [
       "<Figure size 432x288 with 2 Axes>"
      ]
     },
     "metadata": {
      "needs_background": "light"
     },
     "output_type": "display_data"
    }
   ],
   "source": [
    "Y_pred = model_final.fit(X_train, Y_train).predict(X_test)\n",
    "skplt.metrics.plot_confusion_matrix(Y_test,Y_pred,title = \"Confusion Matrix for Gradient Boosting\")\n",
    "print(\"Precision Score: %0.2f \" % precision_score(Y_test,Y_pred))\n",
    "print(\"Recall Score: %0.2f \" % recall_score(Y_test,Y_pred))\n",
    "print(\"F1 Score: %0.2f \" % f1_score(Y_test,Y_pred))"
   ]
  },
  {
   "cell_type": "code",
   "execution_count": 201,
   "metadata": {},
   "outputs": [],
   "source": [
    "gb_accuracy = round(accuracy_score(Y_test,Y_pred),2)\n",
    "gb_precision = round(precision_score(Y_test,Y_pred),2)\n",
    "gb_recall = round(recall_score(Y_test,Y_pred),2)\n",
    "gb_f1score = round(f1_score(Y_test,Y_pred),2)\n",
    "gb_hyper = model.best_params_"
   ]
  },
  {
   "cell_type": "markdown",
   "metadata": {},
   "source": [
    "### RANDOM FOREST CLASSIFIER"
   ]
  },
  {
   "cell_type": "markdown",
   "metadata": {},
   "source": [
    "Random Forest Classifiers are ensemble models where each model is trained on a different dataset. We choose different training samples and for each node, we choose m different attributes to find the best split. Trees are often fully grown and are not pruned. "
   ]
  },
  {
   "cell_type": "code",
   "execution_count": 202,
   "metadata": {},
   "outputs": [
    {
     "name": "stdout",
     "output_type": "stream",
     "text": [
      "Best Score: 0.964824120603015\n",
      "Best parameters: {'max_depth': 9, 'min_samples_split': 4, 'n_estimators': 5}\n"
     ]
    }
   ],
   "source": [
    "GB = ensemble.RandomForestClassifier\n",
    "# Tune hyper-parameters using GridSearch\n",
    "params = {'n_estimators': range(2,8), \n",
    "          'max_depth':range(1,10) , \n",
    "          'min_samples_split': range(2,10)}\n",
    "\n",
    "model = GridSearchCV(estimator=GB(),\n",
    "                      param_grid=params,\n",
    "                      scoring=\"accuracy\",\n",
    "                      n_jobs=4,\n",
    "                      iid=True,\n",
    "                      cv=10)\n",
    "model.fit(X_train,Y_train)\n",
    "print(\"Best Score:\",model.best_score_)\n",
    "print(\"Best parameters:\",model.best_params_)"
   ]
  },
  {
   "cell_type": "code",
   "execution_count": 203,
   "metadata": {},
   "outputs": [
    {
     "name": "stdout",
     "output_type": "stream",
     "text": [
      "[1.         1.         0.76470588 1.         1.         0.94117647\n",
      " 0.94117647 0.82352941 1.         0.9375    ]\n",
      "Accuracy: 0.94 (+/- 0.16)\n"
     ]
    }
   ],
   "source": [
    "model_final = model.best_estimator_\n",
    "scores = cross_val_score(model_final, X_test, Y_test, cv=10)\n",
    "print(scores)\n",
    "print(\"Accuracy: %0.2f (+/- %0.2f)\" % (scores.mean(), scores.std() * 2))"
   ]
  },
  {
   "cell_type": "code",
   "execution_count": 204,
   "metadata": {},
   "outputs": [
    {
     "data": {
      "text/plain": [
       "<matplotlib.axes._subplots.AxesSubplot at 0x2281c6c4ac8>"
      ]
     },
     "execution_count": 204,
     "metadata": {},
     "output_type": "execute_result"
    },
    {
     "data": {
      "image/png": "[encoded data removed]",
      "text/plain": [
       "<Figure size 432x288 with 2 Axes>"
      ]
     },
     "metadata": {
      "needs_background": "light"
     },
     "output_type": "display_data"
    }
   ],
   "source": [
    "Y_pred = model_final.fit(X_train, Y_train).predict(X_test)\n",
    "skplt.metrics.plot_confusion_matrix(Y_test,Y_pred,title = \"Confusion Matrix for Random Forest Classifier\")"
   ]
  },
  {
   "cell_type": "code",
   "execution_count": 205,
   "metadata": {},
   "outputs": [
    {
     "name": "stdout",
     "output_type": "stream",
     "text": [
      "Precision Score: 0.98 \n",
      "Recall Score: 0.92 \n",
      "F1 Score: 0.95 \n"
     ]
    }
   ],
   "source": [
    "print(\"Precision Score: %0.2f \" % precision_score(Y_test,Y_pred))\n",
    "print(\"Recall Score: %0.2f \" % recall_score(Y_test,Y_pred))\n",
    "print(\"F1 Score: %0.2f \" % f1_score(Y_test,Y_pred))"
   ]
  },
  {
   "cell_type": "code",
   "execution_count": 206,
   "metadata": {},
   "outputs": [],
   "source": [
    "rf_accuracy = round(accuracy_score(Y_test,Y_pred),2)\n",
    "rf_precision = round(precision_score(Y_test,Y_pred),2)\n",
    "rf_recall = round(recall_score(Y_test,Y_pred),2)\n",
    "rf_f1score = round(f1_score(Y_test,Y_pred),2)\n",
    "rf_hyper = model.best_params_"
   ]
  },
  {
   "cell_type": "markdown",
   "metadata": {},
   "source": [
    "### NEURAL NETWORKS"
   ]
  },
  {
   "cell_type": "markdown",
   "metadata": {},
   "source": [
    "I'm creating a neural network with 30 epochs, 256 batch sizes below. We are using catgorical cross entropy as the loss function because we are trying to solve a classification problem here. We will get the best parameters and then test our model with that parameter."
   ]
  },
  {
   "cell_type": "code",
   "execution_count": 207,
   "metadata": {},
   "outputs": [],
   "source": [
    "def create_model(activation='relu', nb_hidden=10):\n",
    "    model = Sequential()\n",
    "    model.add(Dense(nb_hidden, input_dim=30, activation=activation))\n",
    "    model.add(Dense(2, activation='softmax'))\n",
    "    model.compile(loss='sparse_categorical_crossentropy', optimizer='adam', metrics=['accuracy'])\n",
    "    return model"
   ]
  },
  {
   "cell_type": "code",
   "execution_count": 208,
   "metadata": {},
   "outputs": [
    {
     "name": "stdout",
     "output_type": "stream",
     "text": [
      "0.9095477386934674 {'activation': 'tanh', 'nb_hidden': 200} <keras.wrappers.scikit_learn.KerasClassifier object at 0x000002281B23F550>\n"
     ]
    }
   ],
   "source": [
    "activations = ['relu', 'linear','tanh','sigmoid']\n",
    "nb_hiddens = np.array([100, 200])\n",
    "\n",
    "param_grid = dict(activation=activations, nb_hidden=nb_hiddens)\n",
    "model = KerasClassifier(build_fn=create_model, epochs= 30, batch_size= 256, verbose=0)\n",
    "\n",
    "clf = GridSearchCV(estimator=model,\n",
    "                   param_grid=param_grid,\n",
    "                   n_jobs=4,\n",
    "                   iid=True,\n",
    "                   cv=10, \n",
    "                   scoring= \"accuracy\")\n",
    "res = clf.fit(X_train, Y_train)\n",
    "\n",
    "print(res.best_score_, res.best_params_,res.best_estimator_)"
   ]
  },
  {
   "cell_type": "code",
   "execution_count": 209,
   "metadata": {},
   "outputs": [
    {
     "data": {
      "text/plain": [
       "<matplotlib.axes._subplots.AxesSubplot at 0x2281a24f400>"
      ]
     },
     "execution_count": 209,
     "metadata": {},
     "output_type": "execute_result"
    },
    {
     "data": {
      "image/png": "[encoded data removed]",
      "text/plain": [
       "<Figure size 432x288 with 2 Axes>"
      ]
     },
     "metadata": {
      "needs_background": "light"
     },
     "output_type": "display_data"
    }
   ],
   "source": [
    "Y_pred = res.best_estimator_.predict(X_test)\n",
    "skplt.metrics.plot_confusion_matrix(Y_test,Y_pred,title = \"Confusion Matrix for Neural Networks\")"
   ]
  },
  {
   "cell_type": "code",
   "execution_count": 210,
   "metadata": {},
   "outputs": [
    {
     "name": "stdout",
     "output_type": "stream",
     "text": [
      "Accuracy: 0.91 \n",
      "Precision Score: 0.88 \n",
      "Recall Score: 0.86 \n",
      "F1 Score: 0.87 \n",
      "Accuracy: 0.91 \n"
     ]
    }
   ],
   "source": [
    "print(\"Accuracy: %0.2f \" % accuracy_score(Y_test,Y_pred))\n",
    "print(\"Precision Score: %0.2f \" % precision_score(Y_test,Y_pred))\n",
    "print(\"Recall Score: %0.2f \" % recall_score(Y_test,Y_pred))\n",
    "print(\"F1 Score: %0.2f \" % f1_score(Y_test,Y_pred))\n",
    "print(\"Accuracy: %0.2f \" % accuracy_score(Y_test,Y_pred))"
   ]
  },
  {
   "cell_type": "code",
   "execution_count": 211,
   "metadata": {},
   "outputs": [],
   "source": [
    "nn_accuracy = round(accuracy_score(Y_test,Y_pred),2)\n",
    "nn_precision = round(precision_score(Y_test,Y_pred),2)\n",
    "nn_recall = round(recall_score(Y_test,Y_pred),2)\n",
    "nn_f1score = round(f1_score(Y_test,Y_pred),2)\n",
    "nn_hyper = res.best_params_"
   ]
  },
  {
   "cell_type": "markdown",
   "metadata": {},
   "source": [
    "### CONCLUSION"
   ]
  },
  {
   "cell_type": "markdown",
   "metadata": {},
   "source": [
    "I have summarised the results of all the models we have run above"
   ]
  },
  {
   "cell_type": "code",
   "execution_count": 212,
   "metadata": {},
   "outputs": [
    {
     "data": {
      "text/html": [
       "<table><tr><td>Classifier</td><td>Hyper Parameter</td><td>Accuracy</td><td>Precision</td><td>Recall</td><td>F1 Score</td></tr><tr><td>Decision Tree</td><td>{'criterion': 'gini', 'max_depth': 2, 'min_impurity_decrease': 0.1}</td><td>0.88</td><td>0.92</td><td>0.8</td><td>0.85</td></tr><tr><td>Logistic Regression</td><td>{'penalty': 'l1'}</td><td>0.95</td><td>0.93</td><td>0.93</td><td>0.93</td></tr><tr><td>K Nearest Neighbors</td><td>{'n_neighbors': 7, 'weights': 'uniform'}</td><td>0.98</td><td>0.98</td><td>0.97</td><td>0.97</td></tr><tr><td>Gradient Boosting</td><td>{'max_depth': 4, 'min_samples_split': 7, 'n_estimators': 14}</td><td>0.95</td><td>1.0</td><td>0.85</td><td>0.92</td></tr><tr><td>Random Forest</td><td>{'max_depth': 9, 'min_samples_split': 4, 'n_estimators': 5}</td><td>0.96</td><td>0.98</td><td>0.92</td><td>0.95</td></tr><tr><td>Neural Netwoks</td><td>{'activation': 'tanh', 'nb_hidden': 200}</td><td>0.91</td><td>0.88</td><td>0.86</td><td>0.87</td></tr></table>"
      ],
      "text/plain": [
       "<IPython.core.display.HTML object>"
      ]
     },
     "metadata": {},
     "output_type": "display_data"
    }
   ],
   "source": [
    "from IPython.display import HTML, display\n",
    "\n",
    "data = [[\"Classifier\",\"Hyper Parameter\",\"Accuracy\",\"Precision\",\"Recall\",\"F1 Score\"],\n",
    "        [\"Decision Tree\",dt_hyper,dt_accuracy,dt_precision,dt_recall,dt_f1score],\n",
    "        [\"Logistic Regression\",lr_hyper,lr_accuracy,lr_precision,lr_recall,lr_f1score],\n",
    "        [\"K Nearest Neighbors\",knn_hyper,knn_accuracy,knn_precision,knn_recall,knn_f1score],\n",
    "        [\"Gradient Boosting\",gb_hyper,gb_accuracy,gb_precision,gb_recall,gb_f1score],\n",
    "        [\"Random Forest\",rf_hyper,rf_accuracy,rf_precision,rf_recall,rf_f1score],\n",
    "        [\"Neural Netwoks\",nn_hyper,nn_accuracy,nn_precision,nn_recall,nn_f1score]]\n",
    "      \n",
    "display(HTML(\n",
    "   '<table><tr>{}</tr></table>'.format(\n",
    "       '</tr><tr>'.join(\n",
    "           '<td>{}</td>'.format('</td><td>'.join(str(_) for _ in row)) for row in data)\n",
    "       )\n",
    "))"
   ]
  },
  {
   "cell_type": "markdown",
   "metadata": {},
   "source": [
    "As we can see above, K-NN provides the highest accuracy of 0.98. <br>\n",
    "\n",
    "Since we are trying to predict whether the patient has cancer or not, False Positives and True Negatives play an important role here. We need to look at precision and recall. <br>\n",
    "\n",
    "Precision is a measure of all instances predicted as positive that were actually correct. In our case, Highest precision is 0.98 and is provided by K-NN, this means that of all the cases that were predicted as postive 98% of them are correct. Which means 2% of cases where identified as positive when they were negative. <br> \n",
    "\n",
    "Recall is a measure of actual postive instances that have been predicted correctly by the model. Using K-nn we get a recall of 0.97 which is the best recall when compared to all other models. <br>\n",
    "\n",
    "F1 score is a harmonic mean of both precision and recall which means a good F1 score means good precision and good recall. From the summarised results above, we see that K-NN is the best classifier. <br> \n"
   ]
  }
 ],
 "metadata": {
  "kernelspec": {
   "display_name": "Python 3",
   "language": "python",
   "name": "python3"
  },
  "language_info": {
   "codemirror_mode": {
    "name": "ipython",
    "version": 3
   },
   "file_extension": ".py",
   "mimetype": "text/x-python",
   "name": "python",
   "nbconvert_exporter": "python",
   "pygments_lexer": "ipython3",
   "version": "3.7.3"
  }
 },
 "nbformat": 4,
 "nbformat_minor": 2
}
